{
 "cells": [
  {
   "cell_type": "code",
   "execution_count": null,
   "id": "1d4b63de",
   "metadata": {},
   "outputs": [],
   "source": [
    "import numpy as np\n",
    "import qutip as q\n",
    "\n",
    "# I will probably give a few examples in a later revision\n"
   ]
  }
 ],
 "metadata": {},
 "nbformat": 4,
 "nbformat_minor": 5
}
