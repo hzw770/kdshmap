{
 "cells": [
  {
   "cell_type": "code",
   "execution_count": 1,
   "id": "159355b4",
   "metadata": {},
   "outputs": [
    {
     "ename": "ModuleNotFoundError",
     "evalue": "No module named 'kdshmap'",
     "output_type": "error",
     "traceback": [
      "\u001b[0;31m---------------------------------------------------------------------------\u001b[0m",
      "\u001b[0;31mModuleNotFoundError\u001b[0m                       Traceback (most recent call last)",
      "Cell \u001b[0;32mIn[1], line 1\u001b[0m\n\u001b[0;32m----> 1\u001b[0m \u001b[38;5;28;01mimport\u001b[39;00m \u001b[38;5;21;01mkdshmap\u001b[39;00m \u001b[38;5;28;01mas\u001b[39;00m \u001b[38;5;21;01mkd\u001b[39;00m\n\u001b[1;32m      2\u001b[0m \u001b[38;5;28;01mimport\u001b[39;00m \u001b[38;5;21;01mqutip\u001b[39;00m \u001b[38;5;28;01mas\u001b[39;00m \u001b[38;5;21;01mq\u001b[39;00m\n\u001b[1;32m      3\u001b[0m \u001b[38;5;28;01mimport\u001b[39;00m \u001b[38;5;21;01mnumpy\u001b[39;00m \u001b[38;5;28;01mas\u001b[39;00m \u001b[38;5;21;01mnp\u001b[39;00m\n",
      "\u001b[0;31mModuleNotFoundError\u001b[0m: No module named 'kdshmap'"
     ]
    }
   ],
   "source": [
    "import kdshmap as kd\n",
    "import qutip as q\n",
    "import numpy as np\n",
    "import matplotlib.pyplot as plt\n",
    "\n",
    "if __name__ == \"__main__\":\n",
    "    # Transmon parameters\n",
    "    tmon_dim = 2  # transmon truncation dimension\n",
    "    wq = 4 * 2*np.pi  # transmon frequency\n",
    "    alpha = -0.3 * 2*np.pi  # transmon anharmonicity\n",
    "\n",
    "    # A TLS as the noise source\n",
    "    wt = 3.85 * 2*np.pi\n",
    "    g = 0.01*2*np.pi\n",
    "    gamma = 0.05*2*np.pi\n",
    "    f_list = np.linspace(-10, 10, 2001)\n",
    "    Sf_list = gamma/((gamma/2)**2+(f_list-wt/2/np.pi)**2*4*np.pi**2) * g**2\n",
    "\n",
    "    # Transmon Hamiltonian\n",
    "    H = (q.num(tmon_dim)*wq + alpha * (q.num(tmon_dim)*(q.num(tmon_dim)-1)/2))\n",
    "    n = q.destroy(tmon_dim)+q.create(tmon_dim)\n",
    "    t_list_full = np.linspace(0, 40, 10001)\n",
    "    env = np.exp(-(t_list_full-t_list_full[-1]/2)**2/(t_list_full[-1]/2)**2)\n",
    "    env = env - np.min(env)\n",
    "    drive_list = 2*np.pi*0.3*np.cos((wq+0.00)*t_list_full) * env\n",
    "    H = [H, [n, q.interpolate.Cubic_Spline(0, t_list_full[-1], drive_list)]]\n",
    "\n",
    "    # kdshsolver\n",
    "    t_list = np.linspace(0, 40, 81)\n",
    "    minimal_step = 1/100\n",
    "\n",
    "    solver = kd.KeldyshSolver(H, t_list, minimal_step, [n],\n",
    "                              [f_list], [Sf_list], trunc_freq=[(-5, 5)], density0=q.basis(tmon_dim, 1)*q.basis(tmon_dim, 1).dag(),\n",
    "                              e_ops=[q.basis(tmon_dim, 1)*q.basis(tmon_dim, 1).dag()], method='trapz', goal='expect')\n",
    "\n",
    "    plt.plot(t_list, solver.expect[0].real)\n",
    "    plt.ylim(0.0, 1)\n",
    "    plt.show()\n"
   ]
  }
 ],
 "metadata": {
  "kernelspec": {
   "display_name": "scqubits_Rohan",
   "language": "python",
   "name": "python3"
  },
  "language_info": {
   "codemirror_mode": {
    "name": "ipython",
    "version": 3
   },
   "file_extension": ".py",
   "mimetype": "text/x-python",
   "name": "python",
   "nbconvert_exporter": "python",
   "pygments_lexer": "ipython3",
   "version": "3.11.0"
  }
 },
 "nbformat": 4,
 "nbformat_minor": 5
}
