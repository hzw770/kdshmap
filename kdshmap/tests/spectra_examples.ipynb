{
 "cells": [
  {
   "cell_type": "code",
   "execution_count": null,
   "id": "77dab23b",
   "metadata": {},
   "outputs": [],
   "source": [
    "import numpy as np\n",
    "import scipy as sp\n",
    "\n",
    "# I will probably show a few example spectra in a next revision\n"
   ]
  }
 ],
 "metadata": {},
 "nbformat": 4,
 "nbformat_minor": 5
}
