{
 "cells": [
  {
   "cell_type": "code",
   "execution_count": 2,
   "id": "cccaf83f",
   "metadata": {},
   "outputs": [],
   "source": [
    "import numpy as np\n",
    "import scipy as sp"
   ]
  },
  {
   "cell_type": "code",
   "execution_count": null,
   "id": "2c5eabf5",
   "metadata": {},
   "outputs": [],
   "source": [
    "def Sf_renorm(Sf_list: np.ndarray, f_list: np.ndarray, \n",
    "              t, \n",
    "              spd_renorm_method=\"trapz\", spec_res=None,\n",
    "              trunc_freq=None, fk_list_input=None):\n",
    "    \n",
    "    \"\"\"\n",
    "    Coarse-grains the noise spectrum at the resolution of 2pi/tau (wp) or the user-defined resolution, \n",
    "    based on how slowly the noise spectrum varies or the resolution required.\n",
    "    \n",
    "    By default, we use the trapz spd_renorm_method for this renormalization, which is fast but perhaps not very accurate\n",
    "    One can also choose the sinc2 spd_renorm_method as described in the paper.\n",
    "\n",
    "    Parameters   :\n",
    "\n",
    "    Sf_list      : np.ndarray\n",
    "                   Samples of the noise spectrum to be coarse-grained\n",
    "\n",
    "    f_list       : np.ndarray\n",
    "                   Frequencies at which the noise spectrum has been sampled\n",
    "    \n",
    "    t            : float\n",
    "                   Time array, to specify 2pi/tau\n",
    "\n",
    "    spd_renorm_method       : str\n",
    "                   spd_renorm_method to use for the renormalization. Options are 'trapz' and 'sinc2' (default is 'trapz')\n",
    "\n",
    "    spec_res     : float\n",
    "                   Minimum resolution at which to coarse-grain the noise spectrum (default is None) \n",
    "\n",
    "    trunc_freq   : np.ndarray\n",
    "                   Frequency range or values to consider for the coarse-graining (default is None)  \n",
    "\n",
    "    \"\"\"\n",
    "\n",
    "    if np.amin(t) == np.amax(t):\n",
    "        f_fund = 1 / abs(t)\n",
    "    else:\n",
    "        f_fund = 1 / abs(np.amax(t) - np.amin(t))\n",
    "    if fk_list_input is not None:\n",
    "        fk_list = fk_list_input\n",
    "    else:\n",
    "        if trunc_freq is None:\n",
    "            f_min = np.amin(f_list)\n",
    "            f_max = np.amax(f_list)\n",
    "        else:\n",
    "            f_min = np.amin(trunc_freq)\n",
    "            f_max = np.amax(trunc_freq)\n",
    "        fk_list = np.arange(np.floor((f_min+f_fund/2)/f_fund), np.ceil((f_max-f_fund/2)/f_fund)+1) * f_fund\n",
    "    \n",
    "    Sf_interp = sp.interpolate.CubicSpline(f_list, Sf_list)\n",
    "    Sfk_list = np.zeros(len(fk_list))\n",
    "\n",
    "    if spd_renorm_method == 'trapz':\n",
    "\n",
    "        def spec_func(f):\n",
    "            return np.heaviside(f-np.amin(f_list), 0) * np.heaviside(np.amax(f_list)-f, 0) * Sf_interp(f)\n",
    "        for f_ in range(len(fk_list)):\n",
    "            Sfk_list[f_] = sp.integrate.quad(spec_func, fk_list[f_]-f_fund/2, fk_list[f_]+f_fund/2)[0] / f_fund\n",
    "\n",
    "    if spd_renorm_method == 'sinc2':\n",
    "\n",
    "        def spec_func(f):\n",
    "            return (np.heaviside(f-np.amin(f_list), 0) * np.heaviside(np.amax(f_list)-f, 0) * Sf_interp(f) *\n",
    "                        np.sinc(2*(f-center)/f_fund/2)**2)/f_fund\n",
    "        for f_ in range(len(fk_list)):\n",
    "            center = fk_list[f_]\n",
    "            Sfk_list[f_] = sp.integrate.quad(spec_func, fk_list[f_]-5*f_fund/2, fk_list[f_]+5*f_fund/2)[0]\n",
    "\n",
    "    return fk_list, Sfk_list"
   ]
  }
 ],
 "metadata": {
  "jupytext": {
   "cell_metadata_filter": "-all",
   "main_language": "python",
   "notebook_metadata_filter": "-all"
  },
  "kernelspec": {
   "display_name": "scqubits_Rohan",
   "language": "python",
   "name": "python3"
  },
  "language_info": {
   "codemirror_mode": {
    "name": "ipython",
    "version": 3
   },
   "file_extension": ".py",
   "mimetype": "text/x-python",
   "name": "python",
   "nbconvert_exporter": "python",
   "pygments_lexer": "ipython3",
   "version": "3.11.0"
  }
 },
 "nbformat": 4,
 "nbformat_minor": 5
}
