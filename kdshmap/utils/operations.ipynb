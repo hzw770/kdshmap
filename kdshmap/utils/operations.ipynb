{
 "cells": [
  {
   "cell_type": "code",
   "execution_count": 2,
   "id": "d367d467",
   "metadata": {},
   "outputs": [],
   "source": [
    "import numpy as np\n",
    "import qutip as q"
   ]
  },
  {
   "cell_type": "code",
   "execution_count": 3,
   "id": "5b4b3bbf",
   "metadata": {},
   "outputs": [],
   "source": [
    "def damped_density(density, lindb_superop):\n",
    "\n",
    "    \"\"\"\n",
    "    Given a density matrix and a Lindbladian super-operator, returns the \n",
    "    result of acting the super-operator on the density matrix.\n",
    "\n",
    "    Parameters:\n",
    "\n",
    "    density   : qutip.Qobj\n",
    "                Density matrix to be acted on.\n",
    "\n",
    "    exp_lindb : numpy.ndarray\n",
    "                Exponential of the Lindbladian super-operator.\n",
    "    \n",
    "    \"\"\"\n",
    "\n",
    "    density = density.full()\n",
    "    dimension = density.shape[-1]\n",
    "    density = density.reshape(dimension*dimension)\n",
    "    density = np.matmul(lindb_superop, density)\n",
    "    density = density.reshape(dimension, dimension)\n",
    "\n",
    "    return q.Qobj(density)"
   ]
  },
  {
   "cell_type": "code",
   "execution_count": 2,
   "id": "6b009e8e",
   "metadata": {},
   "outputs": [],
   "source": [
    "def damped_densities(density, kdshmap_list, output_type='qutip'):\n",
    "\n",
    "    \"\"\"\n",
    "    Given a density matrix and a list of Keldysh maps, depending on the specified output_type, \n",
    "    either returns a numpy array or a Qobj of the Keldysh maps applied to the density matrix.\n",
    "\n",
    "    Parameters:\n",
    "\n",
    "    density      : qutip.Qobj\n",
    "                   Density matrix to be acted on.\n",
    "\n",
    "    kdshmap_list : list of numpy.ndarrays\n",
    "                    List of Keldysh maps to be applied to the density matrix.\n",
    "\n",
    "    output_type  : str\n",
    "                   Type of output to be returned. Options are 'qutip' and 'numpy'.\n",
    "\n",
    "    \"\"\"\n",
    "    \n",
    "    density = density.full()\n",
    "    dimension = density.shape[-1]\n",
    "    density = density.reshape(dimension*dimension)\n",
    "\n",
    "    #Create the output array\n",
    "    damped_density_list = np.array([None]*len(kdshmap_list))\n",
    "\n",
    "    if output_type == 'qutip':\n",
    "        #If the output is needed as an array of Qobjs; each element of the list is a damped density matrix\n",
    "        for j in range(len(kdshmap_list)):\n",
    "            new_density = np.matmul(kdshmap_list[j], density)\n",
    "            new_density = new_density.reshape(dimension, dimension)\n",
    "            damped_density_list[j] = q.Qobj(new_density)\n",
    "\n",
    "    if output_type == 'numpy':\n",
    "        #The time index is the first index of the Keldysh map and of the resulting density matrices\n",
    "        damped_density_list = np.einsum('ijk,k->ij', kdshmap_list, density)\n",
    "\n",
    "    return damped_density_list"
   ]
  },
  {
   "cell_type": "code",
   "execution_count": 1,
   "id": "ba7d9445",
   "metadata": {},
   "outputs": [],
   "source": [
    "def expect(density,  e_op_list, damped_density_list=None, \n",
    "           kdshmap_list=None, store_states=False):\n",
    "    \n",
    "    \"\"\"\n",
    "    Check what the utility of this function is.\n",
    "    \"\"\"\n",
    "\n",
    "    if damped_density_list is None:\n",
    "        if kdshmap_list is None:\n",
    "            raise Exception('no sufficient input')\n",
    "        else:\n",
    "            damped_density_list = damped_densities(density, kdshmap_list, output_type='numpy')\n",
    "    dimension2 = damped_density_list.shape[-1]\n",
    "    e_map = np.zeros((len(e_op_list), damped_density_list.shape[0]), dtype=complex)\n",
    "    for op_ in range(len(e_op_list)):\n",
    "        e_op = e_op_list[op_].full()\n",
    "        e_op = (e_op.transpose()).reshape(dimension2)\n",
    "        e_map[op_] = np.einsum('ij,j->i', damped_density_list, e_op)\n",
    "    if store_states is False:\n",
    "        \n",
    "        return e_map\n",
    "    else:\n",
    "        return e_map, damped_density_list"
   ]
  },
  {
   "cell_type": "code",
   "execution_count": null,
   "id": "613368aa",
   "metadata": {
    "lines_to_next_cell": 2
   },
   "outputs": [],
   "source": [
    "def decoh_error(single_map):\n",
    "\n",
    "    dimension_sq = single_map.shape[-1]\n",
    "    return 1 - np.trace(single_map)/dimension_sq"
   ]
  }
 ],
 "metadata": {
  "jupytext": {
   "cell_metadata_filter": "-all",
   "main_language": "python",
   "notebook_metadata_filter": "-all"
  },
  "kernelspec": {
   "display_name": "scqubits_Rohan",
   "language": "python",
   "name": "python3"
  },
  "language_info": {
   "codemirror_mode": {
    "name": "ipython",
    "version": 3
   },
   "file_extension": ".py",
   "mimetype": "text/x-python",
   "name": "python",
   "nbconvert_exporter": "python",
   "pygments_lexer": "ipython3",
   "version": "3.11.0"
  }
 },
 "nbformat": 4,
 "nbformat_minor": 5
}
