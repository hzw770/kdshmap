{
 "cells": [
  {
   "cell_type": "code",
   "execution_count": null,
   "id": "789dd1c7",
   "metadata": {},
   "outputs": [],
   "source": [
    "# init file for kdshmap.core\n"
   ]
  }
 ],
 "metadata": {},
 "nbformat": 4,
 "nbformat_minor": 5
}
