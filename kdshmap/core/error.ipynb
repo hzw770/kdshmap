{
 "cells": [
  {
   "cell_type": "code",
   "execution_count": 2,
   "id": "3cc811df",
   "metadata": {},
   "outputs": [],
   "source": [
    "# Are these necessary? I don't think so. I'm going to comment them out.\n",
    "def generate_errors():\n",
    "    return None\n",
    "\n",
    "def error():\n",
    "    return 1\n",
    "\n",
    "def generate_error_final():\n",
    "    return None\n"
   ]
  }
 ],
 "metadata": {
  "kernelspec": {
   "display_name": "scqubits_Rohan",
   "language": "python",
   "name": "python3"
  },
  "language_info": {
   "codemirror_mode": {
    "name": "ipython",
    "version": 3
   },
   "file_extension": ".py",
   "mimetype": "text/x-python",
   "name": "python",
   "nbconvert_exporter": "python",
   "pygments_lexer": "ipython3",
   "version": "3.11.0"
  }
 },
 "nbformat": 4,
 "nbformat_minor": 5
}
