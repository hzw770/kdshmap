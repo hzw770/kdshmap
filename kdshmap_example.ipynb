{
 "cells": [
  {
   "cell_type": "code",
   "execution_count": null,
   "id": "af10b95e",
   "metadata": {},
   "outputs": [],
   "source": [
    "import kdshmap as kd\n",
    "import qutip as q\n",
    "import numpy as np\n",
    "import matplotlib.pyplot as plt\n",
    "import scipy as sp"
   ]
  },
  {
   "cell_type": "markdown",
   "id": "bd3e9fcd",
   "metadata": {},
   "source": [
    "# Hamiltonian definition"
   ]
  },
  {
   "cell_type": "code",
   "execution_count": null,
   "id": "8dfe5106",
   "metadata": {},
   "outputs": [],
   "source": [
    "# Transmon parameters\n",
    "tmon_dim = 2  # transmon truncation dimension\n",
    "wq = 4 * 2*np.pi  # transmon frequency\n",
    "alpha = -0.3 * 2*np.pi  # transmon anharmonicity\n",
    "    \n",
    "# A TLS as the noise source\n",
    "wt = 3.85 * 2*np.pi\n",
    "g = 0.01*2*np.pi\n",
    "gamma = 0.05*2*np.pi\n",
    "f_list = np.linspace(-10, 10, 2001)\n",
    "Sf_list = gamma/((gamma/2)**2+(f_list-wt/2/np.pi)**2*4*np.pi**2) * g**2\n",
    "Sf_list += 1 * np.ones(2001) * 0.002\n"
   ]
  },
  {
   "cell_type": "code",
   "execution_count": null,
   "id": "e3a22f63",
   "metadata": {},
   "outputs": [],
   "source": [
    "# Transmon Hamiltonian\n",
    "H = (q.num(tmon_dim)*wq + alpha * (q.num(tmon_dim)*(q.num(tmon_dim)-1)/2))\n",
    "n = q.destroy(tmon_dim)+q.create(tmon_dim)\n",
    "t_list_full = np.linspace(0, 200, 50001)\n",
    "env = np.exp(-(t_list_full-t_list_full[-1]/2)**2/(t_list_full[-1]/2)**2)\n",
    "env = env - np.min(env)\n",
    "drive_list = 2*np.pi*0.3*np.cos((wq+0.00)*t_list_full) * env\n",
    "H = [H, [n, q.interpolate.Cubic_Spline(0, t_list_full[-1], drive_list)]]"
   ]
  },
  {
   "cell_type": "code",
   "execution_count": null,
   "id": "7996d47a",
   "metadata": {},
   "outputs": [],
   "source": [
    "# kdshsolver\n",
    "t_list = np.linspace(0, 200, 401)\n",
    "minimal_step = 1/100\n",
    "\n",
    "solver = kd.KeldyshSolver(H, t_list, minimal_step, [n],\n",
    "                          [f_list], [Sf_list], trunc_freq=[(-5, 5)], density0=q.basis(tmon_dim, 1)*q.basis(tmon_dim, 1).dag(),\n",
    "                          e_ops=[q.basis(tmon_dim, 1)*q.basis(tmon_dim, 1).dag()], method='trapz', goal='expect')"
   ]
  },
  {
   "cell_type": "code",
   "execution_count": null,
   "id": "ebbd34a3",
   "metadata": {},
   "outputs": [],
   "source": [
    "plt.plot(t_list, solver.expect[0].real)\n",
    "plt.ylim(0.0, 1)\n",
    "plt.show()"
   ]
  },
  {
   "cell_type": "markdown",
   "id": "f7c3cba2",
   "metadata": {},
   "source": [
    "# Functions"
   ]
  },
  {
   "cell_type": "code",
   "execution_count": null,
   "id": "9ab78cee",
   "metadata": {},
   "outputs": [],
   "source": [
    "ax = solver.plot_filter_Sf()"
   ]
  },
  {
   "cell_type": "code",
   "execution_count": null,
   "id": "7ac09b14",
   "metadata": {},
   "outputs": [],
   "source": [
    "solver.generate_error_final()"
   ]
  },
  {
   "cell_type": "code",
   "execution_count": null,
   "id": "4a74e09a",
   "metadata": {},
   "outputs": [],
   "source": [
    "solver.generate_density_final()"
   ]
  },
  {
   "cell_type": "code",
   "execution_count": null,
   "id": "0fcb4075",
   "metadata": {},
   "outputs": [],
   "source": []
  }
 ],
 "metadata": {
  "kernelspec": {
   "display_name": "Python 3 (ipykernel)",
   "language": "python",
   "name": "python3"
  },
  "language_info": {
   "codemirror_mode": {
    "name": "ipython",
    "version": 3
   },
   "file_extension": ".py",
   "mimetype": "text/x-python",
   "name": "python",
   "nbconvert_exporter": "python",
   "pygments_lexer": "ipython3",
   "version": "3.11.2"
  }
 },
 "nbformat": 4,
 "nbformat_minor": 5
}
